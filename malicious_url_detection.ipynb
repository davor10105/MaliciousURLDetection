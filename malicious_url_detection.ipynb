{
  "nbformat": 4,
  "nbformat_minor": 0,
  "metadata": {
    "colab": {
      "name": "Copy of FORENZIKA_SEMINAR.ipynb",
      "provenance": [],
      "collapsed_sections": [],
      "toc_visible": true
    },
    "kernelspec": {
      "name": "python3",
      "display_name": "Python 3"
    },
    "accelerator": "GPU"
  },
  "cells": [
    {
      "cell_type": "code",
      "metadata": {
        "id": "Ed_ilACFfJ_Y",
        "colab_type": "code",
        "outputId": "faaa0beb-26ae-4f58-df68-83ee0b2022e0",
        "colab": {
          "base_uri": "https://localhost:8080/",
          "height": 34
        }
      },
      "source": [
        "import torch\n",
        "\n",
        "device = torch.device(\"cuda\" if torch.cuda.is_available() else \"cpu\")\n",
        "n_gpu = torch.cuda.device_count()\n",
        "torch.cuda.get_device_name(0)"
      ],
      "execution_count": 0,
      "outputs": [
        {
          "output_type": "execute_result",
          "data": {
            "text/plain": [
              "'Tesla P4'"
            ]
          },
          "metadata": {
            "tags": []
          },
          "execution_count": 1
        }
      ]
    },
    {
      "cell_type": "code",
      "metadata": {
        "id": "rWmRPX3ENRhy",
        "colab_type": "code",
        "colab": {}
      },
      "source": [
        "import pandas as pd \n",
        "\n",
        "data = pd.read_csv(\"kaggle.csv\") "
      ],
      "execution_count": 0,
      "outputs": []
    },
    {
      "cell_type": "code",
      "metadata": {
        "id": "jhx81_yTNSc0",
        "colab_type": "code",
        "colab": {}
      },
      "source": [
        "benign=data[data['label']=='good']\n",
        "malicious=data[data['label']=='bad']"
      ],
      "execution_count": 0,
      "outputs": []
    },
    {
      "cell_type": "code",
      "metadata": {
        "id": "4rjbyVSb7pY7",
        "colab_type": "code",
        "outputId": "db613601-213f-4f2c-cdfa-9a6d2440b75c",
        "colab": {
          "base_uri": "https://localhost:8080/",
          "height": 68
        }
      },
      "source": [
        "malicious.count()"
      ],
      "execution_count": 0,
      "outputs": [
        {
          "output_type": "execute_result",
          "data": {
            "text/plain": [
              "url      75643\n",
              "label    75643\n",
              "dtype: int64"
            ]
          },
          "metadata": {
            "tags": []
          },
          "execution_count": 4
        }
      ]
    },
    {
      "cell_type": "code",
      "metadata": {
        "id": "SG8XYY-N8WRQ",
        "colab_type": "code",
        "outputId": "896a5d29-aeda-4004-f841-1538b31ce8e9",
        "colab": {
          "base_uri": "https://localhost:8080/",
          "height": 68
        }
      },
      "source": [
        "benign.count()"
      ],
      "execution_count": 0,
      "outputs": [
        {
          "output_type": "execute_result",
          "data": {
            "text/plain": [
              "url      344821\n",
              "label    344821\n",
              "dtype: int64"
            ]
          },
          "metadata": {
            "tags": []
          },
          "execution_count": 5
        }
      ]
    },
    {
      "cell_type": "code",
      "metadata": {
        "id": "T55zA8JR7RhG",
        "colab_type": "code",
        "outputId": "13954053-bdd3-419c-873d-5e09195c6386",
        "colab": {
          "base_uri": "https://localhost:8080/",
          "height": 34
        }
      },
      "source": [
        "ratio=len(malicious)/len(benign)\n",
        "print(ratio)\n",
        "benign=benign.sample(frac=ratio)"
      ],
      "execution_count": 0,
      "outputs": [
        {
          "output_type": "stream",
          "text": [
            "0.21936888994579795\n"
          ],
          "name": "stdout"
        }
      ]
    },
    {
      "cell_type": "code",
      "metadata": {
        "id": "kHA9QCqO7cBm",
        "colab_type": "code",
        "colab": {}
      },
      "source": [
        "X=benign.append(malicious)"
      ],
      "execution_count": 0,
      "outputs": []
    },
    {
      "cell_type": "code",
      "metadata": {
        "id": "dezaPxrJ9B81",
        "colab_type": "code",
        "outputId": "000ce896-4015-4e2f-fc10-883c39df855d",
        "colab": {
          "base_uri": "https://localhost:8080/",
          "height": 68
        }
      },
      "source": [
        "X.count()"
      ],
      "execution_count": 0,
      "outputs": [
        {
          "output_type": "execute_result",
          "data": {
            "text/plain": [
              "url      420464\n",
              "label    420464\n",
              "dtype: int64"
            ]
          },
          "metadata": {
            "tags": []
          },
          "execution_count": 7
        }
      ]
    },
    {
      "cell_type": "code",
      "metadata": {
        "id": "u2oW0ies9Voy",
        "colab_type": "code",
        "outputId": "7d6bb785-d6cf-457e-ccc7-c7ada5a1d6dc",
        "colab": {
          "base_uri": "https://localhost:8080/",
          "height": 68
        }
      },
      "source": [
        "X.iloc[40000]"
      ],
      "execution_count": 0,
      "outputs": [
        {
          "output_type": "execute_result",
          "data": {
            "text/plain": [
              "url      en.wikipedia.org/wiki/Nesty\n",
              "label                           good\n",
              "Name: 82767, dtype: object"
            ]
          },
          "metadata": {
            "tags": []
          },
          "execution_count": 8
        }
      ]
    },
    {
      "cell_type": "code",
      "metadata": {
        "id": "IBOaQhze9rqz",
        "colab_type": "code",
        "colab": {}
      },
      "source": [
        "vocab={c:i+2 for i,c in enumerate('''0123456789abcdefghijklmnopqrstuvwxyzABCDEFGHIJKLMNOPQRSTUVWXYZ-._~:/?#[]@!$&'()*+,;%=''')}\n",
        "vocab['[PAD]']=0\n",
        "vocab['[UNK]']=1"
      ],
      "execution_count": 0,
      "outputs": []
    },
    {
      "cell_type": "code",
      "metadata": {
        "id": "amg2lDJ7-yAY",
        "colab_type": "code",
        "outputId": "eb56bd26-34af-40b4-ba58-f61871097c70",
        "colab": {
          "base_uri": "https://localhost:8080/",
          "height": 54
        }
      },
      "source": [
        "print(vocab)"
      ],
      "execution_count": 0,
      "outputs": [
        {
          "output_type": "stream",
          "text": [
            "{'0': 2, '1': 3, '2': 4, '3': 5, '4': 6, '5': 7, '6': 8, '7': 9, '8': 10, '9': 11, 'a': 12, 'b': 13, 'c': 14, 'd': 15, 'e': 16, 'f': 17, 'g': 18, 'h': 19, 'i': 20, 'j': 21, 'k': 22, 'l': 23, 'm': 24, 'n': 25, 'o': 26, 'p': 27, 'q': 28, 'r': 29, 's': 30, 't': 31, 'u': 32, 'v': 33, 'w': 34, 'x': 35, 'y': 36, 'z': 37, 'A': 38, 'B': 39, 'C': 40, 'D': 41, 'E': 42, 'F': 43, 'G': 44, 'H': 45, 'I': 46, 'J': 47, 'K': 48, 'L': 49, 'M': 50, 'N': 51, 'O': 52, 'P': 53, 'Q': 54, 'R': 55, 'S': 56, 'T': 57, 'U': 58, 'V': 59, 'W': 60, 'X': 61, 'Y': 62, 'Z': 63, '-': 64, '.': 65, '_': 66, '~': 67, ':': 68, '/': 69, '?': 70, '#': 71, '[': 72, ']': 73, '@': 74, '!': 75, '$': 76, '&': 77, \"'\": 78, '(': 79, ')': 80, '*': 81, '+': 82, ',': 83, ';': 84, '%': 85, '=': 86, '[PAD]': 0, '[UNK]': 1}\n"
          ],
          "name": "stdout"
        }
      ]
    },
    {
      "cell_type": "code",
      "metadata": {
        "id": "Y4zhC8miXvuO",
        "colab_type": "code",
        "colab": {}
      },
      "source": [
        "class CharVocab():\n",
        "  def __init__(self,vocab):\n",
        "    self.vocab=vocab\n",
        "  def ctoi(self,c):\n",
        "    try:\n",
        "      return self.vocab[c]\n",
        "    except:\n",
        "      return self.vocab['[UNK]']"
      ],
      "execution_count": 0,
      "outputs": []
    },
    {
      "cell_type": "code",
      "metadata": {
        "id": "ADRZl__wX_60",
        "colab_type": "code",
        "colab": {}
      },
      "source": [
        "char_vocab=CharVocab(vocab)"
      ],
      "execution_count": 0,
      "outputs": []
    },
    {
      "cell_type": "code",
      "metadata": {
        "id": "sJD0etcOOUWf",
        "colab_type": "code",
        "colab": {}
      },
      "source": [
        "SEQUENCE_LENGTH=128\n",
        "\n",
        "examples=[]\n",
        "for index,row in X.iterrows():\n",
        "  tokens=[char_vocab.ctoi(c) for c in row['url']][:SEQUENCE_LENGTH]\n",
        "  tokens+=[char_vocab.ctoi('[PAD]') for i in range(SEQUENCE_LENGTH-len(tokens))]\n",
        "  examples.append((tokens,int(row['label']=='bad')))"
      ],
      "execution_count": 0,
      "outputs": []
    },
    {
      "cell_type": "code",
      "metadata": {
        "id": "mgknUDv5ZALr",
        "colab_type": "code",
        "colab": {}
      },
      "source": [
        "import torch\n",
        "import torch.nn.functional as F\n",
        "\n",
        "class URLGledac(torch.nn.Module):\n",
        "  def __init__(self,sequence_length=128,embedding_size=32,hidden_size=128):\n",
        "    super(URLGledac,self).__init__()\n",
        "\n",
        "    self.embedding=torch.nn.Embedding(len(vocab),embedding_size)\n",
        "    self.lstm=torch.nn.LSTM(embedding_size,hidden_size,bidirectional=True,num_layers=2,dropout=0.2)\n",
        "    self.pool=torch.nn.MaxPool1d(sequence_length)\n",
        "    self.dense=torch.nn.Linear(hidden_size*2,128)\n",
        "    self.batch=torch.nn.BatchNorm1d(128)\n",
        "    self.dropout=torch.nn.Dropout(0.2)\n",
        "    self.output=torch.nn.Linear(128,2)\n",
        "\n",
        "  def forward(self,url):\n",
        "    #print(url.shape)\n",
        "    embedding=self.embedding(url)\n",
        "    #print(embedding.shape)\n",
        "    out,_=self.lstm(torch.transpose(embedding,0,1))\n",
        "    #print(out.shape)\n",
        "    out=self.pool(torch.transpose(out,0,2))\n",
        "    out=self.dense(torch.transpose(out.squeeze(dim=2),0,1))\n",
        "    out=F.relu(out)\n",
        "    out=self.batch(out)\n",
        "    out=self.output(out)\n",
        "\n",
        "    scores=torch.nn.functional.log_softmax(out,dim=1)\n",
        "\n",
        "    return scores\n"
      ],
      "execution_count": 0,
      "outputs": []
    },
    {
      "cell_type": "code",
      "metadata": {
        "id": "rzHLTsI2buEM",
        "colab_type": "code",
        "colab": {}
      },
      "source": [
        "from sklearn.metrics import accuracy_score\n",
        "from sklearn.metrics import precision_recall_fscore_support\n",
        "\n",
        "def accuracy(predictions,labels):\n",
        "  return accuracy_score(labels,predictions)"
      ],
      "execution_count": 0,
      "outputs": []
    },
    {
      "cell_type": "code",
      "metadata": {
        "id": "hVMma5OzKRiU",
        "colab_type": "code",
        "outputId": "f992c97a-6ed3-466e-882a-1768e8da0072",
        "colab": {
          "base_uri": "https://localhost:8080/",
          "height": 187
        }
      },
      "source": [
        "import numpy as np\n",
        "import random\n",
        "\n",
        "folds=5\n",
        "random.shuffle(examples)\n",
        "ratio=int(1/folds*len(examples))\n",
        "X_folds=[]\n",
        "for split in range(folds):\n",
        "  train_set=examples[:split*ratio]+examples[(split+1)*ratio:]\n",
        "  test_set=examples[split*ratio:(split+1)*ratio]\n",
        "  X_folds.append((train_set,test_set))\n",
        "  print(len(train_set))\n",
        "  print(len(test_set))\n"
      ],
      "execution_count": 0,
      "outputs": [
        {
          "output_type": "stream",
          "text": [
            "336372\n",
            "84092\n",
            "336372\n",
            "84092\n",
            "336372\n",
            "84092\n",
            "336372\n",
            "84092\n",
            "336372\n",
            "84092\n"
          ],
          "name": "stdout"
        }
      ]
    },
    {
      "cell_type": "code",
      "metadata": {
        "id": "X4IChGBBagzi",
        "colab_type": "code",
        "outputId": "bd557a2f-d11e-4ee8-cfef-4cd7778b1c4e",
        "colab": {
          "base_uri": "https://localhost:8080/",
          "height": 1000
        }
      },
      "source": [
        "import random\n",
        "\n",
        "url_gledac=URLGledac()\n",
        "url_gledac.cuda()\n",
        "\n",
        "url_gledac.train()\n",
        "loss=torch.nn.NLLLoss()\n",
        "optimizer=torch.optim.Adam(url_gledac.parameters(),lr=5e-5,betas=(0.8,0.999))\n",
        "\n",
        "BATCH_SIZE=128\n",
        "for train_set, test_set in X_folds[0:1]:\n",
        "\n",
        "  best_val_acc=0.\n",
        "  for epoch in range(10):\n",
        "    train_accuracy=0.\n",
        "    train_loss=0.\n",
        "    counter=0\n",
        "\n",
        "    random.seed(69)\n",
        "    random.shuffle(train_set)\n",
        "\n",
        "    url_gledac.train()\n",
        "    num_batches=len(train_set)//BATCH_SIZE\n",
        "    for it in range(num_batches):\n",
        "    #for url,label in train_set:\n",
        "      urls=[url[0] for url in train_set[it*BATCH_SIZE:(it+1)*BATCH_SIZE]]\n",
        "      labels=[url[1] for url in train_set[it*BATCH_SIZE:(it+1)*BATCH_SIZE]]\n",
        "\n",
        "      counter+=1\n",
        "      if counter%500==0:\n",
        "        print('Train accuracy: %s loss: %s'%(train_accuracy/counter,train_loss/counter))\n",
        "        counter=0\n",
        "        train_accuracy=0.\n",
        "        train_loss=0.\n",
        "\n",
        "      #url=torch.tensor(url).unsqueeze(0).to(device)\n",
        "      urls=torch.tensor(urls).to(device)\n",
        "      scores=url_gledac(urls)\n",
        "\n",
        "      #train_accuracy+=1. if torch.max(scores.cpu(),1)[1].item()==label else 0.\n",
        "      #print(scores.shape)\n",
        "      preds=torch.max(scores.cpu(),1)[1].detach().numpy()\n",
        "      train_accuracy+=accuracy(labels,preds)\n",
        "      \n",
        "      labels=torch.tensor(labels).to(device)\n",
        "      #label=torch.tensor(label).unsqueeze(0).to(device)\n",
        "      loss_val=loss(scores,labels)\n",
        "\n",
        "      train_loss+=loss_val.item()\n",
        "\n",
        "      #print(loss_val)\n",
        "      loss_val.backward()\n",
        "      optimizer.step()\n",
        "\n",
        "      \n",
        "    print('Validation...')\n",
        "\n",
        "    url_gledac.eval()\n",
        "    validation_accuracy=0.\n",
        "    num_batches=len(test_set)//BATCH_SIZE\n",
        "    for it in range(num_batches):\n",
        "    #for url,label in train_set:\n",
        "      urls=[url[0] for url in test_set[it*BATCH_SIZE:(it+1)*BATCH_SIZE]]\n",
        "      labels=[url[1] for url in test_set[it*BATCH_SIZE:(it+1)*BATCH_SIZE]]\n",
        "      with torch.no_grad():\n",
        "        urls=torch.tensor(urls).to(device)\n",
        "        scores=url_gledac(urls)\n",
        "        preds=torch.max(scores.cpu(),1)[1].detach().numpy()\n",
        "        validation_accuracy+=accuracy(labels,preds)\n",
        "\n",
        "    print('Validation accuracy: %s'%(validation_accuracy/num_batches)) \n",
        "    if best_val_acc<validation_accuracy/num_batches:\n",
        "      best_val_acc=validation_accuracy/num_batches\n",
        "      torch.save(url_gledac.state_dict(), 'forenzika_model'+str(round(validation_accuracy/num_batches,5)))\n",
        "  print()\n",
        "  print(\"Best result for fold: %s\"%(best_val_acc))\n",
        "  print()"
      ],
      "execution_count": 0,
      "outputs": [
        {
          "output_type": "stream",
          "text": [
            "Train accuracy: 0.813203125 loss: 0.4392803165912628\n",
            "Train accuracy: 0.93453125 loss: 0.19806267829239368\n",
            "Train accuracy: 0.95365625 loss: 0.12928789917379618\n",
            "Train accuracy: 0.96071875 loss: 0.11096702927350997\n",
            "Train accuracy: 0.964578125 loss: 0.10460640705935657\n",
            "Validation...\n",
            "Validation accuracy: 0.9683093559451219\n",
            "Train accuracy: 0.967171875 loss: 0.0953153676148504\n",
            "Train accuracy: 0.970734375 loss: 0.09284277200233192\n",
            "Train accuracy: 0.974328125 loss: 0.08274199733883142\n",
            "Train accuracy: 0.97490625 loss: 0.08330525983963162\n",
            "Train accuracy: 0.975421875 loss: 0.0745852038115263\n",
            "Validation...\n",
            "Validation accuracy: 0.979027724847561\n",
            "Train accuracy: 0.9773125 loss: 0.06094888239819556\n",
            "Train accuracy: 0.980046875 loss: 0.05818241689167917\n",
            "Train accuracy: 0.9810625 loss: 0.055900570208206775\n",
            "Train accuracy: 0.98178125 loss: 0.05409956355020404\n",
            "Train accuracy: 0.981546875 loss: 0.054647663303650916\n",
            "Validation...\n",
            "Validation accuracy: 0.9825528772865854\n",
            "Train accuracy: 0.982578125 loss: 0.04660733804386109\n",
            "Train accuracy: 0.985359375 loss: 0.043793804452754555\n",
            "Train accuracy: 0.984328125 loss: 0.047136506888084115\n",
            "Train accuracy: 0.98446875 loss: 0.046189133367501196\n",
            "Train accuracy: 0.984265625 loss: 0.047312693124637005\n",
            "Validation...\n",
            "Validation accuracy: 0.9836128048780488\n",
            "Train accuracy: 0.984671875 loss: 0.03985739319212735\n",
            "Train accuracy: 0.987703125 loss: 0.03756695321388542\n",
            "Train accuracy: 0.986765625 loss: 0.040814667286351324\n",
            "Train accuracy: 0.984859375 loss: 0.04367175699025393\n",
            "Train accuracy: 0.984515625 loss: 0.04569597680401057\n",
            "Validation...\n",
            "Validation accuracy: 0.9816358612804879\n",
            "Train accuracy: 0.984890625 loss: 0.03909657986834645\n",
            "Train accuracy: 0.98640625 loss: 0.04025945595465601\n",
            "Train accuracy: 0.986359375 loss: 0.040705302267335354\n",
            "Train accuracy: 0.984875 loss: 0.04366591374669224\n",
            "Train accuracy: 0.98540625 loss: 0.0417352458210662\n",
            "Validation...\n",
            "Validation accuracy: 0.9814572217987805\n",
            "Train accuracy: 0.983578125 loss: 0.042829076381400225\n",
            "Train accuracy: 0.98478125 loss: 0.04476323949638754\n",
            "Train accuracy: 0.983921875 loss: 0.04761797110643238\n",
            "Train accuracy: 0.9835625 loss: 0.047785027137957514\n",
            "Train accuracy: 0.9826875 loss: 0.0506390972500667\n",
            "Validation...\n",
            "Validation accuracy: 0.9793492759146342\n",
            "Train accuracy: 0.979875 loss: 0.05341107946820557\n",
            "Train accuracy: 0.981046875 loss: 0.05487309439852834\n",
            "Train accuracy: 0.978953125 loss: 0.06241656509228051\n",
            "Train accuracy: 0.977609375 loss: 0.06506495585478843\n",
            "Train accuracy: 0.9758125 loss: 0.07055901399627328\n",
            "Validation...\n",
            "Validation accuracy: 0.9733708079268293\n"
          ],
          "name": "stdout"
        },
        {
          "output_type": "error",
          "ename": "KeyboardInterrupt",
          "evalue": "ignored",
          "traceback": [
            "\u001b[0;31m---------------------------------------------------------------------------\u001b[0m",
            "\u001b[0;31mKeyboardInterrupt\u001b[0m                         Traceback (most recent call last)",
            "\u001b[0;32m<ipython-input-116-c3989dacd4da>\u001b[0m in \u001b[0;36m<module>\u001b[0;34m()\u001b[0m\n\u001b[1;32m     40\u001b[0m       \u001b[0;31m#train_accuracy+=1. if torch.max(scores.cpu(),1)[1].item()==label else 0.\u001b[0m\u001b[0;34m\u001b[0m\u001b[0;34m\u001b[0m\u001b[0;34m\u001b[0m\u001b[0m\n\u001b[1;32m     41\u001b[0m       \u001b[0;31m#print(scores.shape)\u001b[0m\u001b[0;34m\u001b[0m\u001b[0;34m\u001b[0m\u001b[0;34m\u001b[0m\u001b[0m\n\u001b[0;32m---> 42\u001b[0;31m       \u001b[0mpreds\u001b[0m\u001b[0;34m=\u001b[0m\u001b[0mtorch\u001b[0m\u001b[0;34m.\u001b[0m\u001b[0mmax\u001b[0m\u001b[0;34m(\u001b[0m\u001b[0mscores\u001b[0m\u001b[0;34m.\u001b[0m\u001b[0mcpu\u001b[0m\u001b[0;34m(\u001b[0m\u001b[0;34m)\u001b[0m\u001b[0;34m,\u001b[0m\u001b[0;36m1\u001b[0m\u001b[0;34m)\u001b[0m\u001b[0;34m[\u001b[0m\u001b[0;36m1\u001b[0m\u001b[0;34m]\u001b[0m\u001b[0;34m.\u001b[0m\u001b[0mdetach\u001b[0m\u001b[0;34m(\u001b[0m\u001b[0;34m)\u001b[0m\u001b[0;34m.\u001b[0m\u001b[0mnumpy\u001b[0m\u001b[0;34m(\u001b[0m\u001b[0;34m)\u001b[0m\u001b[0;34m\u001b[0m\u001b[0;34m\u001b[0m\u001b[0m\n\u001b[0m\u001b[1;32m     43\u001b[0m       \u001b[0mtrain_accuracy\u001b[0m\u001b[0;34m+=\u001b[0m\u001b[0maccuracy\u001b[0m\u001b[0;34m(\u001b[0m\u001b[0mlabels\u001b[0m\u001b[0;34m,\u001b[0m\u001b[0mpreds\u001b[0m\u001b[0;34m)\u001b[0m\u001b[0;34m\u001b[0m\u001b[0;34m\u001b[0m\u001b[0m\n\u001b[1;32m     44\u001b[0m \u001b[0;34m\u001b[0m\u001b[0m\n",
            "\u001b[0;31mKeyboardInterrupt\u001b[0m: "
          ]
        }
      ]
    },
    {
      "cell_type": "markdown",
      "metadata": {
        "id": "Ayu1Ve9BjJ4O",
        "colab_type": "text"
      },
      "source": [
        "##T-SNE"
      ]
    },
    {
      "cell_type": "code",
      "metadata": {
        "id": "Vx_f-nhy-Lzt",
        "colab_type": "code",
        "outputId": "32ce3962-3a28-46f7-8e66-a84f0f61c84a",
        "colab": {
          "base_uri": "https://localhost:8080/",
          "height": 170
        }
      },
      "source": [
        "model_path='forenzika_model0.98361'\n",
        "\n",
        "url_gledac=URLGledac()\n",
        "url_gledac.cuda()\n",
        "url_gledac.load_state_dict(torch.load(model_path))\n",
        "url_gledac.eval()"
      ],
      "execution_count": 0,
      "outputs": [
        {
          "output_type": "execute_result",
          "data": {
            "text/plain": [
              "URLGledac(\n",
              "  (embedding): Embedding(87, 32)\n",
              "  (lstm): LSTM(32, 128, num_layers=2, dropout=0.2, bidirectional=True)\n",
              "  (pool): MaxPool1d(kernel_size=128, stride=128, padding=0, dilation=1, ceil_mode=False)\n",
              "  (dense): Linear(in_features=256, out_features=128, bias=True)\n",
              "  (batch): BatchNorm1d(128, eps=1e-05, momentum=0.1, affine=True, track_running_stats=True)\n",
              "  (dropout): Dropout(p=0.2, inplace=False)\n",
              "  (output): Linear(in_features=128, out_features=2, bias=True)\n",
              ")"
            ]
          },
          "metadata": {
            "tags": []
          },
          "execution_count": 117
        }
      ]
    },
    {
      "cell_type": "code",
      "metadata": {
        "id": "9XjgUVEZiRnE",
        "colab_type": "code",
        "colab": {}
      },
      "source": [
        "import numpy as np\n",
        "from sklearn.manifold import TSNE\n",
        "from sklearn.decomposition import PCA\n",
        "import matplotlib.pyplot as plt\n",
        "%matplotlib inline\n",
        "\n",
        "chars=[char_vocab.ctoi(c) for c in '''0123456789abcdefghijklmnopqrstuvwxyzABCDEFGHIJKLMNOPQRSTUVWXYZ-._~:/?#[]@!$&'()*+,;%=''']\n",
        "labels=[c for c in '''0123456789abcdefghijklmnopqrstuvwxyzABCDEFGHIJKLMNOPQRSTUVWXYZ-._~:/?#[]@!$&'()*+,;%=''']\n",
        "embedding=url_gledac.embedding(torch.tensor(chars).to(device))"
      ],
      "execution_count": 0,
      "outputs": []
    },
    {
      "cell_type": "code",
      "metadata": {
        "id": "UeS-HNBejcal",
        "colab_type": "code",
        "colab": {}
      },
      "source": [
        "embedding=embedding.cpu().detach().numpy()"
      ],
      "execution_count": 0,
      "outputs": []
    },
    {
      "cell_type": "code",
      "metadata": {
        "id": "5VUpo3szjock",
        "colab_type": "code",
        "colab": {}
      },
      "source": [
        "tsne=TSNE(perplexity=5,learning_rate=10.,random_state=69)\n",
        "new_embeddings=tsne.fit_transform(embedding)"
      ],
      "execution_count": 0,
      "outputs": []
    },
    {
      "cell_type": "code",
      "metadata": {
        "id": "oroZGDptj_aL",
        "colab_type": "code",
        "outputId": "a0cfd8db-26b9-4539-9e0e-8990c604b1aa",
        "colab": {
          "base_uri": "https://localhost:8080/",
          "height": 483
        }
      },
      "source": [
        "plt.figure(figsize=(8,8))\n",
        "plt.scatter(new_embeddings[:,0],new_embeddings[:,1],marker='.',s=0.01)\n",
        "\n",
        "for i,e in enumerate(new_embeddings):\n",
        "  plt.annotate(labels[i],xy=e)"
      ],
      "execution_count": 0,
      "outputs": [
        {
          "output_type": "display_data",
          "data": {
            "image/png": "[encoded data removed]",
            "text/plain": [
              "<Figure size 576x576 with 1 Axes>"
            ]
          },
          "metadata": {
            "tags": []
          }
        }
      ]
    },
    {
      "cell_type": "code",
      "metadata": {
        "id": "38mZ79_Aa3uU",
        "colab_type": "code",
        "colab": {}
      },
      "source": [
        "import numpy as np\n",
        "from sklearn import metrics\n",
        "\n",
        "url_gledac.eval()\n",
        "pred=[]\n",
        "y=[]\n",
        "num_batches=len(test_set)//BATCH_SIZE\n",
        "for it in range(num_batches):\n",
        "  urls=[url[0] for url in test_set[it*BATCH_SIZE:(it+1)*BATCH_SIZE]]\n",
        "  labels=[url[1] for url in test_set[it*BATCH_SIZE:(it+1)*BATCH_SIZE]]\n",
        "  with torch.no_grad():\n",
        "    urls=torch.tensor(urls).to(device)\n",
        "    scores=url_gledac(urls)\n",
        "    preds=torch.max(scores.cpu(),1)[1].detach()\n",
        "    pred.append(preds)\n",
        "    labels=torch.tensor(labels)\n",
        "    y.append(labels)\n",
        "pred=torch.cat(pred,0).squeeze().numpy()\n",
        "y=torch.cat(y,0).squeeze().numpy()\n",
        "\n",
        "fpr, tpr, thresholds = metrics.roc_curve(y, pred, pos_label=1)\n",
        "auc=metrics.auc(fpr, tpr)"
      ],
      "execution_count": 0,
      "outputs": []
    },
    {
      "cell_type": "code",
      "metadata": {
        "id": "m1g5uQJuZwEU",
        "colab_type": "code",
        "outputId": "373f6f36-840c-4b9e-c374-2d80650aa5ea",
        "colab": {
          "base_uri": "https://localhost:8080/",
          "height": 501
        }
      },
      "source": [
        "plt.figure(figsize=(10,8))\n",
        "plt.plot(fpr, tpr, 'b', label = 'AUC = %0.2f' % auc)\n",
        "plt.legend(loc = 'lower right')\n",
        "plt.plot([0, 1], [0, 1],'r--')\n",
        "plt.xlim([0, 1])\n",
        "plt.ylim([0, 1])\n",
        "plt.ylabel('True Positive Rate')\n",
        "plt.xlabel('False Positive Rate')\n",
        "plt.show()"
      ],
      "execution_count": 0,
      "outputs": [
        {
          "output_type": "display_data",
          "data": {
            "image/png": "[encoded data removed]",
            "text/plain": [
              "<Figure size 720x576 with 1 Axes>"
            ]
          },
          "metadata": {
            "tags": []
          }
        }
      ]
    },
    {
      "cell_type": "code",
      "metadata": {
        "id": "z1PY227XDkGX",
        "colab_type": "code",
        "outputId": "19267b5d-3a51-4dad-a9bc-9bf56a367023",
        "colab": {
          "base_uri": "https://localhost:8080/",
          "height": 85
        }
      },
      "source": [
        "precision_recall_fscore_support(y,pred)"
      ],
      "execution_count": 0,
      "outputs": [
        {
          "output_type": "execute_result",
          "data": {
            "text/plain": [
              "(array([0.98713715, 0.96689693]),\n",
              " array([0.9929793 , 0.94064808]),\n",
              " array([0.99004961, 0.95359191]),\n",
              " array([68939, 15029]))"
            ]
          },
          "metadata": {
            "tags": []
          },
          "execution_count": 120
        }
      ]
    },
    {
      "cell_type": "code",
      "metadata": {
        "id": "58l0P3MZB66D",
        "colab_type": "code",
        "outputId": "d340c185-8435-4c0f-ae56-7ec65cf30f81",
        "colab": {
          "base_uri": "https://localhost:8080/",
          "height": 34
        }
      },
      "source": [
        "precision_recall_fscore_support(y,pred,average='macro')"
      ],
      "execution_count": 0,
      "outputs": [
        {
          "output_type": "execute_result",
          "data": {
            "text/plain": [
              "(0.9770170399623457, 0.966813690459497, 0.971820756450223, None)"
            ]
          },
          "metadata": {
            "tags": []
          },
          "execution_count": 122
        }
      ]
    },
    {
      "cell_type": "code",
      "metadata": {
        "id": "VHdpfn2uI4Ae",
        "colab_type": "code",
        "colab": {}
      },
      "source": [
        ""
      ],
      "execution_count": 0,
      "outputs": []
    }
  ]
}